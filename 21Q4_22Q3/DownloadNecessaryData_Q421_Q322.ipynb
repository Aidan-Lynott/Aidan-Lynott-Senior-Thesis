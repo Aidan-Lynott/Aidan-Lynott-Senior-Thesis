{
 "cells": [
  {
   "cell_type": "markdown",
   "metadata": {},
   "source": [
    "## CODE INFORMATION:\n",
    "\n",
    "This document is used to store all the code I needed to download all the data I needed to make my lists of the most delayed trains by net delay and delay per mile between July 2021 and June 2022. If you're looking to use it, it's probably better to just go through FindEveryPossibleAmtrakTrain_Q421_Q322.ipynb."
   ]
  },
  {
   "cell_type": "code",
   "execution_count": 19,
   "metadata": {
    "id": "RH529PIlCpVh"
   },
   "outputs": [],
   "source": [
    "import requests\n",
    "from matplotlib import pyplot as plt\n",
    "import numpy as np\n",
    "import os\n",
    "import math"
   ]
  },
  {
   "cell_type": "markdown",
   "metadata": {},
   "source": [
    "# Get the station delay data for all real train numbers"
   ]
  },
  {
   "cell_type": "code",
   "execution_count": 20,
   "metadata": {
    "id": "6qyAYT5zC5Xz"
   },
   "outputs": [],
   "source": [
    "# Set ranges of all the train numbers\n",
    "trainNumbers = [1, 9999]"
   ]
  },
  {
   "cell_type": "code",
   "execution_count": 21,
   "metadata": {
    "id": "aHkFN3gUChNL"
   },
   "outputs": [],
   "source": [
    "# Download the files we need for each train\n",
    "def downLoadFiles(trainNumbers, startMonth, startDay, startYear, endMonth, endDay, endYear, statistic, folder):\n",
    "\n",
    "    # Look through all trains\n",
    "    for x in range(int(len(trainNumbers)/2)):\n",
    "        for i in range(trainNumbers[2*x], trainNumbers[2*x+1]+1):\n",
    "            \n",
    "            print(i)\n",
    "\n",
    "            # For if you only want a specific train file\n",
    "            # if (i != 5):\n",
    "                # continue\n",
    "\n",
    "            # Make URL and get page\n",
    "            URL = \"https://juckins.net/amtrak_status/archive/html/average_delays.php?train_num=\"\n",
    "            URL = URL + str(i)\n",
    "            URL = URL + \"&date_start=\"\n",
    "            URL = URL + startMonth + \"%2F\" + startDay + \"%2F\" + startYear\n",
    "            URL = URL + \"&date_end=\" \n",
    "            URL = URL + endMonth + \"%2F\" + endDay + \"%2F\" + endYear\n",
    "            URL = URL + \"&df1=1&df2=1&df3=1&df4=1&df5=1&df6=1&df7=1&stat=\"\n",
    "            URL = URL + statistic + \"&chartsize=2&dfon=1\"\n",
    "            page = requests.get(URL)\n",
    "\n",
    "            # Make sure train number exists\n",
    "            toFind1 = \"<p class=\\\"content-red\\\">Train number not found.<br>\"\n",
    "            searching1 = page.text.find(toFind1)\n",
    "            toFind2 = \"<p class=\\\"content-red\\\">Invalid train number</p>\"\n",
    "            searching2 = page.text.find(toFind2)\n",
    "            toFind3 = \"<p class=\\\"content-red\\\">No data found; try different dates.<br>\"\n",
    "            searching3 = page.text.find(toFind3)\n",
    "            if searching1 == -1 and searching2 == -1 and searching3 == -1:\n",
    "                fileName = folder + \"/amtrakTrain\" + str(i) + \".txt\"\n",
    "                with open(fileName, 'w') as f:\n",
    "                    f.write(page.text)\n",
    "        \n"
   ]
  },
  {
   "cell_type": "code",
   "execution_count": 22,
   "metadata": {
    "id": "jT1sXeF1DO2G"
   },
   "outputs": [],
   "source": [
    "# Set variables and download files\n",
    "# avg or med for statistic\n",
    "start_month = \"07\"\n",
    "start_day = \"01\"\n",
    "start_year = \"2021\"\n",
    "end_month = \"06\"\n",
    "end_day = \"30\"\n",
    "end_year = \"2022\"\n",
    "statistic = \"med\"\n",
    "folder = \"21Q4_22Q4_AverageDelayByStation\"\n",
    "downLoadFiles(trainNumbers, start_month, start_day, start_year, end_month, end_day, end_year, statistic, folder)"
   ]
  },
  {
   "cell_type": "markdown",
   "metadata": {},
   "source": [
    "# Get the latitude and longitude of every Amtrak station"
   ]
  },
  {
   "cell_type": "code",
   "execution_count": 26,
   "metadata": {},
   "outputs": [],
   "source": [
    "# Make the list of all stations with their city\n",
    "\n",
    "def findStations():\n",
    "    URL = \"https://juckins.net/amtrak_status/archive/html/stations.php\"\n",
    "    page = requests.get(URL)\n",
    "    text = page.text\n",
    "    text = text[text.find(\"<tr><td style=\\\"text-align:left; font-style: italic;\\\">Code</td><td style=\\\"text-align:left; font-style:italic\\\">Name</td></tr>\") + 1:]\n",
    "    text = text[text.find(\"<tr>\"):text.find(\"</table><br>\")]\n",
    "    \n",
    "    stationDict = { }\n",
    "    findStation = text.find(\"<tr>\")\n",
    "    while findStation != -1:\n",
    "        stationName = text[findStation+8:findStation+11]\n",
    "        stationAddress = text[findStation+20:text.find(\"</td>\", findStation+20)]\n",
    "        findStation = text.find(\"<tr>\", findStation + 1)\n",
    "        stationDict[stationName] = [stationAddress]\n",
    "        \n",
    "    return stationDict\n"
   ]
  },
  {
   "cell_type": "code",
   "execution_count": 27,
   "metadata": {},
   "outputs": [],
   "source": [
    "# Use the google maps API to get the latitude and longitude of each station\n",
    "\n",
    "def getStationLatLong(stations):\n",
    "    \n",
    "    # GOOGLE_MAPS_API_KEY = ENTER API KEY IF NEEDED\n",
    "    \n",
    "    for station in stations:\n",
    "        address = stations[station][0]\n",
    "        address = address.replace(\", \", \"+\")\n",
    "        address = address.replace(\" - \", \"+\")\n",
    "        address = address.replace(\" \", \"+\")\n",
    "        address = \"Amtrak+Station+\" + address\n",
    "        response = requests.get('https://maps.googleapis.com/maps/api/geocode/json?address=' + address + '&key=' + GOOGLE_MAPS_API_KEY)\n",
    "        resp_json_payload = response.json()\n",
    "        if len(resp_json_payload['results']) > 0:   \n",
    "            latLong = resp_json_payload['results'][0]['geometry']['location']\n",
    "            lat = latLong['lat']\n",
    "            long = latLong['lng']\n",
    "            if len(stations[station]) == 1:\n",
    "                stations[station].append(lat)\n",
    "                stations[station].append(long)\n",
    "            else:\n",
    "                stations[station][1] = lat\n",
    "                stations[station][2] = long\n",
    "    \n"
   ]
  },
  {
   "cell_type": "code",
   "execution_count": 58,
   "metadata": {},
   "outputs": [],
   "source": [
    "stationLocations = findStations()\n",
    "getStationLatLong(stationLocations)"
   ]
  },
  {
   "cell_type": "markdown",
   "metadata": {},
   "source": [
    "# Download the delay data for every train"
   ]
  },
  {
   "cell_type": "code",
   "execution_count": 33,
   "metadata": {},
   "outputs": [],
   "source": [
    "# Download the delay data needed\n",
    "def downLoadDelayData(t_num, dest, month, day, year, folder):\n",
    "\n",
    "    # One of these 2 must exist, other can be \"\"\n",
    "    # Number can be entered as \"30*\", \"2100-2200\", \"3,4,5,6\" or \"all\"\n",
    "    number = str(t_num)\n",
    "    station = dest\n",
    "\n",
    "    # Must all exist\n",
    "    start_month = month\n",
    "    start_day = day\n",
    "    start_year = year\n",
    "\n",
    "    # Don't have to exist if only looking at one day\n",
    "    # If only looking at one day, can be \"\"\n",
    "    end_month = \"06\"\n",
    "    end_day = \"30\"\n",
    "    end_year = \"2022\"\n",
    "\n",
    "    # All these must exist\n",
    "    sunday = \"1\"\n",
    "    monday = \"1\"\n",
    "    tuesday = \"1\"\n",
    "    wednesday = \"1\"\n",
    "    thursday = \"1\"\n",
    "    friday = \"1\"\n",
    "    saturday = \"1\"\n",
    "\n",
    "    # Must exist\n",
    "    # Should be \"d_dp\" or \"d_ar\"\n",
    "    delay_type = \"d_ar\"\n",
    "\n",
    "    # Must exist\n",
    "    # \"DESC\" or \"ASC\"\n",
    "    order = \"DESC\"\n",
    "\n",
    "    # Must exist\n",
    "    # \"gt\", \"gteq\", \"eq\", \"lteq\", \"lt\"\n",
    "    sign = \"gt\"\n",
    "\n",
    "    # Optional, can be \"\"\n",
    "    minutes = \"\"\n",
    "\n",
    "    # Keep at 1\n",
    "    # Setting to zero ignores weekday inputs\n",
    "    # Set to zero if you always want every day of the week\n",
    "    dfon = \"1\"\n",
    "\n",
    "    URL = \"https://juckins.net/amtrak_status/archive/html/history.php?\"\n",
    "    URL = URL + \"train_num=\" + number\n",
    "    URL = URL + \"&station=\" + station\n",
    "    URL = URL + \"&date_start=\" + start_month + \"%2F\" + start_day + \"%2F\" + start_year\n",
    "    URL = URL + \"&date_end=\" + end_month + \"%2F\" + end_day + \"%2F\" + end_year\n",
    "    URL = URL + \"&df1=\" + sunday + \"&df2=\" + monday + \"&df3=\" + tuesday + \"&df4=\" + wednesday + \"&df5=\" + thursday + \"&df6=\" + friday + \"&df7=\" + saturday\n",
    "    URL = URL + \"&sort=\" + delay_type + \"&sort_dir=\" + order\n",
    "    URL = URL + \"&co=\" + sign + \"&limit_mins=\" + minutes + \"&dfon=\" + dfon\n",
    "    page = requests.get(URL)\n",
    "    \n",
    "    print(number)\n",
    "    fileName = folder + \"/amtrakTrain\" + number + \".txt\"\n",
    "    with open(fileName, 'w') as f:\n",
    "        f.write(page.text)\n",
    "\n",
    "    "
   ]
  },
  {
   "cell_type": "code",
   "execution_count": 34,
   "metadata": {},
   "outputs": [],
   "source": [
    "start_month = \"07\"\n",
    "start_day = \"01\"\n",
    "start_year = \"2021\"\n",
    "folder2 = \"21Q4_22Q3_DestinationDelays\"\n",
    "for trainNum in trainDict:\n",
    "    downLoadDelayData(trainNum, trainDict[trainNum][1], start_month, start_day, start_year, folder2)"
   ]
  },
  {
   "cell_type": "code",
   "execution_count": null,
   "metadata": {},
   "outputs": [],
   "source": []
  }
 ],
 "metadata": {
  "colab": {
   "collapsed_sections": [],
   "provenance": []
  },
  "kernelspec": {
   "display_name": "Python 3 (ipykernel)",
   "language": "python",
   "name": "python3"
  },
  "language_info": {
   "codemirror_mode": {
    "name": "ipython",
    "version": 3
   },
   "file_extension": ".py",
   "mimetype": "text/x-python",
   "name": "python",
   "nbconvert_exporter": "python",
   "pygments_lexer": "ipython3",
   "version": "3.10.8"
  }
 },
 "nbformat": 4,
 "nbformat_minor": 1
}
