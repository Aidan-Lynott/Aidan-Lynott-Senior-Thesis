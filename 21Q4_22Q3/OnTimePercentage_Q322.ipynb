{
 "cells": [
  {
   "cell_type": "markdown",
   "id": "f3bf97ff",
   "metadata": {},
   "source": [
    "## CODE INFORMATION\n",
    "\n",
    "This code, with the Customer OTP Metrics from Quarter 3 2022 (or any official customer OTP metric file), can give you the customer on-time percentage for a given Amtrak service, as well as the customer on-time percentage for a given train number."
   ]
  },
  {
   "cell_type": "markdown",
   "id": "17d2f554",
   "metadata": {},
   "source": [
    "# Import Packages"
   ]
  },
  {
   "cell_type": "code",
   "execution_count": 1,
   "id": "e955fe39",
   "metadata": {},
   "outputs": [],
   "source": [
    "import pandas as pd\n",
    "# DELAY CODES FOUND HERE: https://www.amtrak.com/content/dam/projects/dotcom/english/public/documents/corporate/HostRailroadReports/July-2021-Amtrak-Host-Railroad-Report.pdf\n",
    "# METRIC REPORTS FOUND HERE: https://railroads.dot.gov/rail-network-development/passenger-rail/amtrak/intercity-passenger-rail-service-quality-and"
   ]
  },
  {
   "cell_type": "markdown",
   "id": "3305b5a0",
   "metadata": {},
   "source": [
    "# Import Data"
   ]
  },
  {
   "cell_type": "code",
   "execution_count": 2,
   "id": "0f80f632",
   "metadata": {},
   "outputs": [],
   "source": [
    "routeData = pd.read_excel(\"DelayMetrics/FY22_Q3_Customer_OTP_Metric.xlsx\", \"Route Level C OTP\")"
   ]
  },
  {
   "cell_type": "code",
   "execution_count": 3,
   "id": "7cc7221f",
   "metadata": {},
   "outputs": [],
   "source": [
    "trainData = pd.read_excel(\"DelayMetrics/FY22_Q3_Customer_OTP_Metric.xlsx\", \"Train Level C OTP\")"
   ]
  },
  {
   "cell_type": "markdown",
   "id": "601c367f",
   "metadata": {},
   "source": [
    "## Get Customer OTP for given Route Service or Train Number"
   ]
  },
  {
   "cell_type": "code",
   "execution_count": 4,
   "id": "7d4ad88b",
   "metadata": {},
   "outputs": [
    {
     "data": {
      "text/html": [
       "<div>\n",
       "<style scoped>\n",
       "    .dataframe tbody tr th:only-of-type {\n",
       "        vertical-align: middle;\n",
       "    }\n",
       "\n",
       "    .dataframe tbody tr th {\n",
       "        vertical-align: top;\n",
       "    }\n",
       "\n",
       "    .dataframe thead th {\n",
       "        text-align: right;\n",
       "    }\n",
       "</style>\n",
       "<table border=\"1\" class=\"dataframe\">\n",
       "  <thead>\n",
       "    <tr style=\"text-align: right;\">\n",
       "      <th></th>\n",
       "      <th>Service</th>\n",
       "      <th>Sub Service</th>\n",
       "      <th>C OTP</th>\n",
       "    </tr>\n",
       "  </thead>\n",
       "  <tbody>\n",
       "    <tr>\n",
       "      <th>40</th>\n",
       "      <td>California Zephyr</td>\n",
       "      <td>California Zephyr</td>\n",
       "      <td>0.155952</td>\n",
       "    </tr>\n",
       "  </tbody>\n",
       "</table>\n",
       "</div>"
      ],
      "text/plain": [
       "              Service        Sub Service     C OTP\n",
       "40  California Zephyr  California Zephyr  0.155952"
      ]
     },
     "execution_count": 4,
     "metadata": {},
     "output_type": "execute_result"
    }
   ],
   "source": [
    "service = \"California Zephyr\"\n",
    "routeData[routeData['Service'] == service][['Service', 'Sub Service', 'C OTP']]"
   ]
  },
  {
   "cell_type": "markdown",
   "id": "6bb75380",
   "metadata": {},
   "source": [
    "## Get Customer OTP for given Train Number"
   ]
  },
  {
   "cell_type": "code",
   "execution_count": 5,
   "id": "dda00b65",
   "metadata": {},
   "outputs": [
    {
     "data": {
      "text/html": [
       "<div>\n",
       "<style scoped>\n",
       "    .dataframe tbody tr th:only-of-type {\n",
       "        vertical-align: middle;\n",
       "    }\n",
       "\n",
       "    .dataframe tbody tr th {\n",
       "        vertical-align: top;\n",
       "    }\n",
       "\n",
       "    .dataframe thead th {\n",
       "        text-align: right;\n",
       "    }\n",
       "</style>\n",
       "<table border=\"1\" class=\"dataframe\">\n",
       "  <thead>\n",
       "    <tr style=\"text-align: right;\">\n",
       "      <th></th>\n",
       "      <th>Train Number</th>\n",
       "      <th>Sub Service</th>\n",
       "      <th>C OTP</th>\n",
       "    </tr>\n",
       "  </thead>\n",
       "  <tbody>\n",
       "    <tr>\n",
       "      <th>45</th>\n",
       "      <td>5</td>\n",
       "      <td>California Zephyr</td>\n",
       "      <td>0.191047</td>\n",
       "    </tr>\n",
       "  </tbody>\n",
       "</table>\n",
       "</div>"
      ],
      "text/plain": [
       "    Train Number        Sub Service     C OTP\n",
       "45             5  California Zephyr  0.191047"
      ]
     },
     "execution_count": 5,
     "metadata": {},
     "output_type": "execute_result"
    }
   ],
   "source": [
    "number = 5\n",
    "trainData[trainData['Train Number'] == number][['Train Number', 'Sub Service', 'C OTP']]"
   ]
  },
  {
   "cell_type": "code",
   "execution_count": null,
   "id": "a456fda7",
   "metadata": {},
   "outputs": [],
   "source": []
  }
 ],
 "metadata": {
  "kernelspec": {
   "display_name": "Python 3 (ipykernel)",
   "language": "python",
   "name": "python3"
  },
  "language_info": {
   "codemirror_mode": {
    "name": "ipython",
    "version": 3
   },
   "file_extension": ".py",
   "mimetype": "text/x-python",
   "name": "python",
   "nbconvert_exporter": "python",
   "pygments_lexer": "ipython3",
   "version": "3.10.8"
  }
 },
 "nbformat": 4,
 "nbformat_minor": 5
}
