{
 "cells": [
  {
   "cell_type": "markdown",
   "metadata": {},
   "source": [
    "## CODE INFORMATION:\n",
    "\n",
    "This code, given two trains, their destinations, and a time frame, will download the arrival delay data for these trains at their destinations within the time frame and run a 2-sample t-test with the trains to see if one of the given trains was significantly more delayed than the other within the time frame."
   ]
  },
  {
   "cell_type": "code",
   "execution_count": 1,
   "metadata": {
    "id": "RH529PIlCpVh"
   },
   "outputs": [],
   "source": [
    "import requests\n",
    "from matplotlib import pyplot as plt\n",
    "import numpy as np\n",
    "import os\n",
    "import math"
   ]
  },
  {
   "cell_type": "markdown",
   "metadata": {},
   "source": [
    "# Get Delays"
   ]
  },
  {
   "cell_type": "code",
   "execution_count": 2,
   "metadata": {},
   "outputs": [],
   "source": [
    "# Get the stats we need from the files\n",
    "def getDelays(trainNumber, endCity, start_month, start_day, start_year, end_month, end_day, end_year):\n",
    "  \n",
    "    delaysByTrain = { }\n",
    "    \n",
    "    # One of these 2 must exist, other can be \"\"\n",
    "    # Number can be entered as \"30*\", \"2100-2200\", \"3,4,5,6\" or \"all\"\n",
    "    number = str(trainNumber)\n",
    "    station = endCity\n",
    "\n",
    "    # Must all exist\n",
    "    start_month = str(start_month)\n",
    "    start_day = str(start_day)\n",
    "    start_year = str(start_year)\n",
    "\n",
    "    # Don't have to exist if only looking at one day\n",
    "    # If only looking at one day, can be \"\"\n",
    "    end_month = str(end_month)\n",
    "    end_day = str(end_day)\n",
    "    end_year = str(end_year)\n",
    "\n",
    "    # All these must exist\n",
    "    sunday = \"1\"\n",
    "    monday = \"1\"\n",
    "    tuesday = \"1\"\n",
    "    wednesday = \"1\"\n",
    "    thursday = \"1\"\n",
    "    friday = \"1\"\n",
    "    saturday = \"1\"\n",
    "\n",
    "    # Must exist\n",
    "    # Should be \"d_dp\" or \"d_ar\"\n",
    "    delay_type = \"d_ar\"\n",
    "\n",
    "    # Must exist\n",
    "    # \"DESC\" or \"ASC\"\n",
    "    order = \"DESC\"\n",
    "\n",
    "    # Must exist\n",
    "    # \"gt\", \"gteq\", \"eq\", \"lteq\", \"lt\"\n",
    "    sign = \"gt\"\n",
    "\n",
    "    # Optional, can be \"\"\n",
    "    minutes = \"\"\n",
    "\n",
    "    # Keep at 1\n",
    "    # Setting to zero ignores weekday inputs\n",
    "    # Set to zero if you always want every day of the week\n",
    "    dfon = \"1\"\n",
    "\n",
    "    URL = \"https://juckins.net/amtrak_status/archive/html/history.php?\"\n",
    "    URL = URL + \"train_num=\" + number\n",
    "    URL = URL + \"&station=\" + station\n",
    "    URL = URL + \"&date_start=\" + start_month + \"%2F\" + start_day + \"%2F\" + start_year\n",
    "    URL = URL + \"&date_end=\" + end_month + \"%2F\" + end_day + \"%2F\" + end_year\n",
    "    URL = URL + \"&df1=\" + sunday + \"&df2=\" + monday + \"&df3=\" + tuesday + \"&df4=\" + wednesday + \"&df5=\" + thursday + \"&df6=\" + friday + \"&df7=\" + saturday\n",
    "    URL = URL + \"&sort=\" + delay_type + \"&sort_dir=\" + order\n",
    "    URL = URL + \"&co=\" + sign + \"&limit_mins=\" + minutes + \"&dfon=\" + dfon\n",
    "    page = requests.get(URL)\n",
    "    \n",
    "    listDelays = []\n",
    "    toFind = \"</span></td><td style=\\\"text-align: center;\\\">\"\n",
    "    length = len(toFind)\n",
    "    searching = page.text.find(toFind)\n",
    "    while (searching != -1) :\n",
    "        end = page.text.find(\"<\", searching + length)\n",
    "        delayNumber = int(page.text[searching+length:end])\n",
    "        listDelays.append(delayNumber)\n",
    "        searching = page.text.find(toFind, end)\n",
    "        \n",
    "    return listDelays"
   ]
  },
  {
   "cell_type": "markdown",
   "metadata": {},
   "source": [
    "# Functions"
   ]
  },
  {
   "cell_type": "code",
   "execution_count": 15,
   "metadata": {},
   "outputs": [],
   "source": [
    "# Import library\n",
    "import scipy.stats as stats"
   ]
  },
  {
   "cell_type": "code",
   "execution_count": 16,
   "metadata": {},
   "outputs": [],
   "source": [
    "# Use Scipy to get the p-value\n",
    "def getPValue(train1Delays, train2Delays):\n",
    "    train1Data = np.asarray(train1Delays)\n",
    "    train2Data = np.asarray(train2Delays)\n",
    "    train1Mean = train1Data.mean()\n",
    "    train2Mean = train2Data.mean()\n",
    "\n",
    "    test = stats.ttest_ind(a=train1Data, b=train2Data, equal_var=False)\n",
    "    statistic = test[0]\n",
    "    p_value = test[1]\n",
    "\n",
    "    print(\"Test Statistic:\", statistic)\n",
    "    print(\"P-value:\", p_value)\n",
    "    if (train1Mean > train2Mean):\n",
    "        print(\"If the p-value is sufficiently small,\\n train #1 is significantly more delayed than train #2 on average.\")\n",
    "    else:\n",
    "        print(\"If the p-value is sufficiently small,\\n train #2 is significantly more delayed than train #1 on average.\")"
   ]
  },
  {
   "cell_type": "code",
   "execution_count": 17,
   "metadata": {},
   "outputs": [],
   "source": [
    "# Use math I have learned in ORF245 to get the p-value\n",
    "def myPValue(train1Delays, train2Delays):\n",
    "\n",
    "    train1Data = np.asarray(train1Delays)\n",
    "    train2Data = np.asarray(train2Delays)\n",
    "    train1Mean = train1Data.mean()\n",
    "    train2Mean = train2Data.mean()\n",
    "\n",
    "\n",
    "    if (len(train1Delays) >= 40 and len(train2Delays) >= 40):\n",
    "        myZ = (train2Mean-train1Mean)/(np.sqrt(train1Data.var(ddof=1)/len(train1Delays) + train2Data.var(ddof=1)/len(train2Delays)))\n",
    "        \n",
    "        df_top = (train1Data.var(ddof=1)/len(train1Delays) + train2Data.var(ddof=1)/len(train2Delays))**2\n",
    "        df_bottom_1 = 1/(len(train1Delays) - 1) * (train1Data.var(ddof=1)/len(train1Delays))**2\n",
    "        df_bottom_2 = 1/(len(train2Delays) - 1) * (train2Data.var(ddof=1)/len(train2Delays))**2\n",
    "        df_true = df_top / (df_bottom_1 + df_bottom_2)\n",
    "        \n",
    "        myP = (1 - stats.t.cdf(abs(myZ), df = df_true))*2\n",
    "        \n",
    "        print(\"My Test Statistic:\", myZ)\n",
    "        print(\"My P-value:\", myP)\n",
    "        \n",
    "        if (train1Mean > train2Mean):\n",
    "            print(\"If the p-value is sufficiently small,\\n train #1 is significantly more delayed than train #2 on average.\")\n",
    "        else:\n",
    "            print(\"If the p-value is sufficiently small,\\n train #2 is significantly more delayed than train #1 on average.\")\n",
    "    else:\n",
    "        print(\"One of the trains has too small a sample size!\")"
   ]
  },
  {
   "cell_type": "markdown",
   "metadata": {},
   "source": [
    "# Inputs - 2 Trains/Routes Must Be Independent Samples"
   ]
  },
  {
   "cell_type": "code",
   "execution_count": 14,
   "metadata": {},
   "outputs": [],
   "source": [
    "trainNumber1 = 29\n",
    "endCity1 = \"CHI\"\n",
    "\n",
    "trainNumber2 = 30\n",
    "endCity2 = \"WAS\"\n",
    "\n",
    "start_month = \"01\"\n",
    "start_day = \"01\"\n",
    "start_year = \"2021\"\n",
    "end_month = \"12\"\n",
    "end_day = \"31\"\n",
    "end_year = \"2022\"\n",
    "\n",
    "train1Delays = getDelays(trainNumber1, endCity1, start_month, start_day, start_year, end_month, end_day, end_year)\n",
    "train2Delays = getDelays(trainNumber2, endCity2, start_month, start_day, start_year, end_month, end_day, end_year)"
   ]
  },
  {
   "cell_type": "markdown",
   "metadata": {},
   "source": [
    "# Results"
   ]
  },
  {
   "cell_type": "code",
   "execution_count": 18,
   "metadata": {},
   "outputs": [
    {
     "name": "stdout",
     "output_type": "stream",
     "text": [
      "Train #1: Train 29\n",
      "Destination #1: CHI\n",
      "Train #1 Average Delay: 62.770358306188925 Minutes\n",
      "Train #2: Train 30\n",
      "Destination #2: WAS\n",
      "Train #2 Average Delay: 58.78896103896104 Minutes\n",
      "Time Frame: 01/01/2021 - 12/31/2022\n",
      "Test Statistic: 0.9079978635644432\n",
      "P-value: 0.3640589002307515\n",
      "If the p-value is sufficiently small,\n",
      " train #1 is significantly more delayed than train #2 on average.\n"
     ]
    }
   ],
   "source": [
    "print(\"Train #1: Train\", trainNumber1)\n",
    "print(\"Destination #1:\", endCity1)\n",
    "print(\"Train #1 Average Delay:\", np.mean(train1Delays), \"Minutes\")\n",
    "print(\"Train #2: Train\", trainNumber2)\n",
    "print(\"Destination #2:\", endCity2)\n",
    "print(\"Train #2 Average Delay:\", np.mean(train2Delays), \"Minutes\")\n",
    "print(\"Time Frame:\", \n",
    "      start_month + \"/\" + start_day + \"/\" + start_year + \" - \" + end_month + \"/\" + end_day + \"/\" + end_year)\n",
    "getPValue(train1Delays, train2Delays)"
   ]
  },
  {
   "cell_type": "code",
   "execution_count": 19,
   "metadata": {},
   "outputs": [
    {
     "name": "stdout",
     "output_type": "stream",
     "text": [
      "Train #1: Train 29\n",
      "Destination #1: CHI\n",
      "Train #1 Average Delay: 62.770358306188925 Minutes\n",
      "Train #2: Train 30\n",
      "Destination #2: WAS\n",
      "Train #2 Average Delay: 58.78896103896104 Minutes\n",
      "Time Frame: 01/01/2021 - 12/31/2022\n",
      "My Test Statistic: -0.9079978635644432\n",
      "My P-value: 0.3640589002307515\n",
      "If the p-value is sufficiently small,\n",
      " train #1 is significantly more delayed than train #2 on average.\n"
     ]
    }
   ],
   "source": [
    "print(\"Train #1: Train\", trainNumber1)\n",
    "print(\"Destination #1:\", endCity1)\n",
    "print(\"Train #1 Average Delay:\", np.mean(train1Delays), \"Minutes\")\n",
    "print(\"Train #2: Train\", trainNumber2)\n",
    "print(\"Destination #2:\", endCity2)\n",
    "print(\"Train #2 Average Delay:\", np.mean(train2Delays), \"Minutes\")\n",
    "print(\"Time Frame:\", \n",
    "      start_month + \"/\" + start_day + \"/\" + start_year + \" - \" + end_month + \"/\" + end_day + \"/\" + end_year)\n",
    "myPValue(train1Delays, train2Delays)"
   ]
  },
  {
   "cell_type": "code",
   "execution_count": null,
   "metadata": {},
   "outputs": [],
   "source": []
  },
  {
   "cell_type": "code",
   "execution_count": null,
   "metadata": {},
   "outputs": [],
   "source": []
  },
  {
   "cell_type": "code",
   "execution_count": null,
   "metadata": {},
   "outputs": [],
   "source": []
  }
 ],
 "metadata": {
  "colab": {
   "collapsed_sections": [],
   "provenance": []
  },
  "kernelspec": {
   "display_name": "Python 3 (ipykernel)",
   "language": "python",
   "name": "python3"
  },
  "language_info": {
   "codemirror_mode": {
    "name": "ipython",
    "version": 3
   },
   "file_extension": ".py",
   "mimetype": "text/x-python",
   "name": "python",
   "nbconvert_exporter": "python",
   "pygments_lexer": "ipython3",
   "version": "3.10.8"
  }
 },
 "nbformat": 4,
 "nbformat_minor": 1
}
