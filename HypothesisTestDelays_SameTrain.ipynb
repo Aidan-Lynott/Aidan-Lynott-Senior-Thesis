{
 "cells": [
  {
   "cell_type": "markdown",
   "metadata": {},
   "source": [
    "## CODE INFORMATION:\n",
    "\n",
    "Given 1 train, its destination, and 2 time frames, this code will download the delay data for the train at its destination in both time frames, and run a 2-sample t-test with the data in both time frames to see if the train was significantly more delayed within either of the two timeframes."
   ]
  },
  {
   "cell_type": "code",
   "execution_count": 14,
   "metadata": {
    "id": "RH529PIlCpVh"
   },
   "outputs": [],
   "source": [
    "import requests\n",
    "from matplotlib import pyplot as plt\n",
    "import numpy as np\n",
    "import os\n",
    "import math"
   ]
  },
  {
   "cell_type": "markdown",
   "metadata": {},
   "source": [
    "# Get Delays"
   ]
  },
  {
   "cell_type": "code",
   "execution_count": 15,
   "metadata": {},
   "outputs": [],
   "source": [
    "# Get the stats we need from the files\n",
    "def getDelays(trainNumber, endCity, start_month, start_day, start_year, end_month, end_day, end_year):\n",
    "  \n",
    "    delaysByTrain = { }\n",
    "    \n",
    "    # One of these 2 must exist, other can be \"\"\n",
    "    # Number can be entered as \"30*\", \"2100-2200\", \"3,4,5,6\" or \"all\"\n",
    "    number = str(trainNumber)\n",
    "    station = endCity\n",
    "\n",
    "    # Must all exist\n",
    "    start_month = str(start_month)\n",
    "    start_day = str(start_day)\n",
    "    start_year = str(start_year)\n",
    "\n",
    "    # Don't have to exist if only looking at one day\n",
    "    # If only looking at one day, can be \"\"\n",
    "    end_month = str(end_month)\n",
    "    end_day = str(end_day)\n",
    "    end_year = str(end_year)\n",
    "\n",
    "    # All these must exist\n",
    "    sunday = \"1\"\n",
    "    monday = \"1\"\n",
    "    tuesday = \"1\"\n",
    "    wednesday = \"1\"\n",
    "    thursday = \"1\"\n",
    "    friday = \"1\"\n",
    "    saturday = \"1\"\n",
    "\n",
    "    # Must exist\n",
    "    # Should be \"d_dp\" or \"d_ar\"\n",
    "    delay_type = \"d_ar\"\n",
    "\n",
    "    # Must exist\n",
    "    # \"DESC\" or \"ASC\"\n",
    "    order = \"DESC\"\n",
    "\n",
    "    # Must exist\n",
    "    # \"gt\", \"gteq\", \"eq\", \"lteq\", \"lt\"\n",
    "    sign = \"gt\"\n",
    "\n",
    "    # Optional, can be \"\"\n",
    "    minutes = \"\"\n",
    "\n",
    "    # Keep at 1\n",
    "    # Setting to zero ignores weekday inputs\n",
    "    # Set to zero if you always want every day of the week\n",
    "    dfon = \"1\"\n",
    "\n",
    "    URL = \"https://juckins.net/amtrak_status/archive/html/history.php?\"\n",
    "    URL = URL + \"train_num=\" + number\n",
    "    URL = URL + \"&station=\" + station\n",
    "    URL = URL + \"&date_start=\" + start_month + \"%2F\" + start_day + \"%2F\" + start_year\n",
    "    URL = URL + \"&date_end=\" + end_month + \"%2F\" + end_day + \"%2F\" + end_year\n",
    "    URL = URL + \"&df1=\" + sunday + \"&df2=\" + monday + \"&df3=\" + tuesday + \"&df4=\" + wednesday + \"&df5=\" + thursday + \"&df6=\" + friday + \"&df7=\" + saturday\n",
    "    URL = URL + \"&sort=\" + delay_type + \"&sort_dir=\" + order\n",
    "    URL = URL + \"&co=\" + sign + \"&limit_mins=\" + minutes + \"&dfon=\" + dfon\n",
    "    page = requests.get(URL)\n",
    "    \n",
    "    listDelays = []\n",
    "    toFind = \"</span></td><td style=\\\"text-align: center;\\\">\"\n",
    "    length = len(toFind)\n",
    "    searching = page.text.find(toFind)\n",
    "    while (searching != -1) :\n",
    "        end = page.text.find(\"<\", searching + length)\n",
    "        delayNumber = int(page.text[searching+length:end])\n",
    "        listDelays.append(delayNumber)\n",
    "        searching = page.text.find(toFind, end)\n",
    "        \n",
    "    return listDelays"
   ]
  },
  {
   "cell_type": "markdown",
   "metadata": {},
   "source": [
    "# Functions"
   ]
  },
  {
   "cell_type": "code",
   "execution_count": 16,
   "metadata": {},
   "outputs": [],
   "source": [
    "# Import library\n",
    "import scipy.stats as stats"
   ]
  },
  {
   "cell_type": "code",
   "execution_count": 17,
   "metadata": {},
   "outputs": [],
   "source": [
    "# Use Scipy to get the p-value\n",
    "def getPValue(train1Delays, train2Delays):\n",
    "    train1Data = np.asarray(train1Delays)\n",
    "    train2Data = np.asarray(train2Delays)\n",
    "    train1Mean = train1Data.mean()\n",
    "    train2Mean = train2Data.mean()\n",
    "\n",
    "    test = stats.ttest_ind(a=train1Data, b=train2Data, equal_var=False)\n",
    "    statistic = test[0]\n",
    "    p_value = test[1]\n",
    "\n",
    "    print(\"Test Statistic:\", statistic)\n",
    "    print(\"P-value:\", p_value)\n",
    "    if (train1Mean > train2Mean):\n",
    "        print(\"If the p-value is sufficiently small,\\n time frame #1 is significantly more delayed than time frame #2 on average.\")\n",
    "    else:\n",
    "        print(\"If the p-value is sufficiently small,\\n time frame #2 is significantly more delayed than time frame #1 on average.\")"
   ]
  },
  {
   "cell_type": "code",
   "execution_count": 18,
   "metadata": {},
   "outputs": [],
   "source": [
    "# Use math I have learned in ORF245 to get the p-value\n",
    "def myPValue(train1Delays, train2Delays):\n",
    "\n",
    "    train1Data = np.asarray(train1Delays)\n",
    "    train2Data = np.asarray(train2Delays)\n",
    "    train1Mean = train1Data.mean()\n",
    "    train2Mean = train2Data.mean()\n",
    "\n",
    "\n",
    "    if (len(train1Delays) >= 40 and len(train2Delays) >= 40):\n",
    "        myZ = (train2Mean-train1Mean)/(np.sqrt(train1Data.var(ddof=1)/len(train1Delays) + train2Data.var(ddof=1)/len(train2Delays)))\n",
    "        \n",
    "        df_top = (train1Data.var(ddof=1)/len(train1Delays) + train2Data.var(ddof=1)/len(train2Delays))**2\n",
    "        df_bottom_1 = 1/(len(train1Delays) - 1) * (train1Data.var(ddof=1)/len(train1Delays))**2\n",
    "        df_bottom_2 = 1/(len(train2Delays) - 1) * (train2Data.var(ddof=1)/len(train2Delays))**2\n",
    "        df_true = df_top / (df_bottom_1 + df_bottom_2)\n",
    "        \n",
    "        myP = (1 - stats.t.cdf(abs(myZ), df = df_true))*2\n",
    "        \n",
    "        print(\"My Test Statistic:\", myZ)\n",
    "        print(\"My P-value:\", myP)\n",
    "        \n",
    "        if (train1Mean > train2Mean):\n",
    "            print(\"If the p-value is sufficiently small,\\n time frame #1 is significantly more delayed than time frame #2 on average.\")\n",
    "        else:\n",
    "            print(\"If the p-value is sufficiently small,\\n time frame #2 is significantly more delayed than time frame #1 on average.\")\n",
    "    else:\n",
    "        print(\"One of the trains has too small a sample size!\")"
   ]
  },
  {
   "cell_type": "markdown",
   "metadata": {},
   "source": [
    "# Inputs - 2 Trains/Routes Must Be Independent Samples"
   ]
  },
  {
   "cell_type": "code",
   "execution_count": 19,
   "metadata": {},
   "outputs": [],
   "source": [
    "trainNumber = 5\n",
    "endCity = \"EMY\"\n",
    "\n",
    "start_month1 = \"07\"\n",
    "start_day1 = \"01\"\n",
    "start_year1 = \"2021\"\n",
    "end_month1 = \"06\"\n",
    "end_day1 = \"30\"\n",
    "end_year1 = \"2022\"\n",
    "train1Delays = getDelays(trainNumber, endCity, start_month1, start_day1, start_year1, end_month1, end_day1, end_year1)\n",
    "\n",
    "start_month2 = \"07\"\n",
    "start_day2 = \"01\"\n",
    "start_year2 = \"2022\"\n",
    "end_month2 = \"12\"\n",
    "end_day2 = \"31\"\n",
    "end_year2 = \"2023\"\n",
    "train2Delays = getDelays(trainNumber, endCity, start_month2, start_day2, start_year2, end_month2, end_day2, end_year2)"
   ]
  },
  {
   "cell_type": "code",
   "execution_count": 20,
   "metadata": {},
   "outputs": [
    {
     "name": "stdout",
     "output_type": "stream",
     "text": [
      "[1142, 1015, 998, 848, 773, 771, 766, 736, 685, 676, 663, 587, 510, 505, 458, 441, 435, 434, 427, 416, 415, 405, 383, 370, 364, 364, 362, 351, 348, 344, 334, 334, 333, 324, 322, 319, 314, 301, 295, 294, 290, 280, 280, 277, 273, 263, 263, 263, 260, 254, 250, 243, 237, 237, 235, 232, 232, 231, 230, 227, 224, 223, 221, 220, 220, 218, 218, 218, 217, 216, 213, 213, 212, 212, 211, 211, 209, 207, 205, 203, 202, 198, 196, 195, 194, 192, 190, 190, 186, 186, 185, 184, 183, 183, 180, 179, 178, 175, 172, 172, 170, 170, 169, 167, 166, 165, 164, 162, 162, 162, 161, 160, 160, 159, 159, 155, 154, 149, 148, 144, 141, 138, 136, 135, 133, 133, 133, 131, 128, 127, 126, 122, 121, 120, 118, 117, 116, 116, 108, 107, 107, 107, 106, 105, 105, 105, 105, 103, 103, 102, 100, 99, 99, 98, 98, 97, 97, 95, 94, 94, 93, 92, 92, 92, 92, 92, 89, 86, 86, 84, 83, 83, 82, 82, 81, 81, 80, 79, 78, 76, 75, 75, 74, 74, 71, 71, 70, 68, 68, 67, 67, 66, 66, 66, 64, 63, 62, 61, 60, 58, 57, 56, 55, 55, 54, 54, 53, 51, 51, 50, 50, 49, 48, 45, 45, 44, 44, 42, 42, 41, 40, 40, 40, 38, 38, 38, 35, 35, 32, 30, 29, 27, 27, 26, 25, 23, 23, 21, 20, 20, 19, 15, 15, 15, 14, 14, 10, 10, 10, 9, 8, 7, 7, 6, 5, 5, 5, 5, 5, 3, 3, 2, 0, 0, -3, -4, -4, -6, -7, -8, -8, -9, -9, -10, -11, -12, -12, -13, -14, -17, -18, -18, -21, -21, -22, -23, -23, -23, -26, -28, -29, -29, -31, -31, -32, -33, -34, -37, -38, -38, -39, -41, -41, -43, -46, -48, -50, -50, -52, -52, -52, -55, -58, -59, -61, -63, -64, -78]\n",
      "[1909, 990, 889, 847, 802, 792, 684, 671, 661, 641, 600, 583, 571, 560, 522, 494, 462, 439, 435, 425, 421, 408, 406, 406, 386, 384, 380, 377, 376, 373, 371, 368, 347, 342, 337, 328, 325, 325, 306, 299, 293, 288, 274, 274, 272, 271, 269, 266, 266, 263, 263, 260, 258, 257, 240, 239, 237, 236, 236, 235, 234, 231, 231, 230, 229, 226, 225, 221, 221, 218, 213, 205, 205, 203, 202, 202, 200, 199, 198, 198, 197, 196, 195, 193, 193, 193, 193, 192, 192, 190, 188, 187, 186, 186, 186, 185, 184, 182, 180, 179, 171, 169, 168, 168, 166, 166, 160, 160, 158, 158, 156, 156, 156, 154, 154, 151, 150, 149, 147, 144, 144, 140, 140, 139, 138, 138, 129, 127, 126, 121, 121, 121, 121, 121, 120, 117, 117, 116, 116, 111, 110, 110, 109, 108, 108, 108, 108, 105, 102, 101, 100, 100, 98, 98, 98, 98, 97, 96, 96, 96, 95, 95, 86, 86, 82, 82, 82, 82, 81, 76, 70, 70, 68, 68, 68, 65, 65, 62, 61, 61, 60, 59, 58, 58, 57, 55, 55, 54, 53, 52, 51, 50, 50, 50, 47, 46, 43, 43, 42, 42, 42, 41, 41, 40, 39, 37, 32, 32, 31, 31, 29, 29, 28, 23, 21, 20, 20, 20, 19, 17, 15, 15, 14, 13, 7, 7, 5, 3, 0, -2, -2, -4, -6, -7, -7, -12, -15, -15, -16, -20, -21, -23, -27, -27, -30, -30, -36, -41, -52, -57]\n"
     ]
    }
   ],
   "source": [
    "print(train1Delays)\n",
    "print(train2Delays)"
   ]
  },
  {
   "cell_type": "markdown",
   "metadata": {},
   "source": [
    "# Results"
   ]
  },
  {
   "cell_type": "code",
   "execution_count": 21,
   "metadata": {},
   "outputs": [
    {
     "name": "stdout",
     "output_type": "stream",
     "text": [
      "Train #: Train 5\n",
      "Destination: EMY\n",
      "Time Frame 1: 07/01/2021 - 06/30/2022\n",
      "Time Frame #1 Average Delay: 138.80817610062894 Minutes\n",
      "Time Frame 2: 07/01/2022 - 12/31/2023\n",
      "Time Frame #2 Average Delay: 179.952 Minutes\n",
      "Test Statistic: -2.4927566980404015\n",
      "P-value: 0.012999969326783621\n",
      "If the p-value is sufficiently small,\n",
      " time frame #2 is significantly more delayed than time frame #1 on average.\n"
     ]
    }
   ],
   "source": [
    "print(\"Train #: Train\", trainNumber)\n",
    "print(\"Destination:\", endCity)\n",
    "print(\"Time Frame 1:\", \n",
    "      start_month1 + \"/\" + start_day1 + \"/\" + start_year1 + \" - \" + end_month1 + \"/\" + end_day1 + \"/\" + end_year1)\n",
    "print(\"Time Frame #1 Average Delay:\", np.mean(train1Delays), \"Minutes\")\n",
    "print(\"Time Frame 2:\", \n",
    "      start_month2 + \"/\" + start_day2 + \"/\" + start_year2 + \" - \" + end_month2 + \"/\" + end_day2 + \"/\" + end_year2)\n",
    "print(\"Time Frame #2 Average Delay:\", np.mean(train2Delays), \"Minutes\")\n",
    "getPValue(train1Delays, train2Delays)"
   ]
  },
  {
   "cell_type": "code",
   "execution_count": 22,
   "metadata": {},
   "outputs": [
    {
     "name": "stdout",
     "output_type": "stream",
     "text": [
      "Train #: Train 5\n",
      "Destination: EMY\n",
      "Time Frame 1: 07/01/2021 - 06/30/2022\n",
      "Time Frame #1 Average Delay: 138.80817610062894 Minutes\n",
      "Time Frame 2: 07/01/2022 - 12/31/2023\n",
      "Time Frame #2 Average Delay: 179.952 Minutes\n",
      "My Test Statistic: 2.4927566980404015\n",
      "My P-value: 0.012999969326783711\n",
      "If the p-value is sufficiently small,\n",
      " time frame #2 is significantly more delayed than time frame #1 on average.\n"
     ]
    }
   ],
   "source": [
    "print(\"Train #: Train\", trainNumber)\n",
    "print(\"Destination:\", endCity)\n",
    "print(\"Time Frame 1:\", \n",
    "      start_month1 + \"/\" + start_day1 + \"/\" + start_year1 + \" - \" + end_month1 + \"/\" + end_day1 + \"/\" + end_year1)\n",
    "print(\"Time Frame #1 Average Delay:\", np.mean(train1Delays), \"Minutes\")\n",
    "print(\"Time Frame 2:\", \n",
    "      start_month2 + \"/\" + start_day2 + \"/\" + start_year2 + \" - \" + end_month2 + \"/\" + end_day2 + \"/\" + end_year2)\n",
    "print(\"Time Frame #2 Average Delay:\", np.mean(train2Delays), \"Minutes\")\n",
    "myPValue(train1Delays, train2Delays)"
   ]
  },
  {
   "cell_type": "code",
   "execution_count": null,
   "metadata": {},
   "outputs": [],
   "source": []
  },
  {
   "cell_type": "code",
   "execution_count": null,
   "metadata": {},
   "outputs": [],
   "source": []
  },
  {
   "cell_type": "code",
   "execution_count": null,
   "metadata": {},
   "outputs": [],
   "source": []
  }
 ],
 "metadata": {
  "colab": {
   "collapsed_sections": [],
   "provenance": []
  },
  "kernelspec": {
   "display_name": "Python 3 (ipykernel)",
   "language": "python",
   "name": "python3"
  },
  "language_info": {
   "codemirror_mode": {
    "name": "ipython",
    "version": 3
   },
   "file_extension": ".py",
   "mimetype": "text/x-python",
   "name": "python",
   "nbconvert_exporter": "python",
   "pygments_lexer": "ipython3",
   "version": "3.10.8"
  }
 },
 "nbformat": 4,
 "nbformat_minor": 1
}
